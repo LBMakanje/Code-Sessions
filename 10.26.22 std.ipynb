{
 "cells": [
  {
   "cell_type": "code",
   "execution_count": 2,
   "id": "2f41954a",
   "metadata": {},
   "outputs": [],
   "source": [
    "m_l = []"
   ]
  },
  {
   "cell_type": "code",
   "execution_count": 3,
   "id": "e7e86c48",
   "metadata": {},
   "outputs": [],
   "source": [
    "m_l.append(\"Go to church\")"
   ]
  },
  {
   "cell_type": "code",
   "execution_count": 4,
   "id": "4066f0b8",
   "metadata": {},
   "outputs": [],
   "source": [
    "m_l.append(\"Read Notes\")"
   ]
  },
  {
   "cell_type": "code",
   "execution_count": 5,
   "id": "7a998fca",
   "metadata": {},
   "outputs": [
    {
     "data": {
      "text/plain": [
       "['Go to church', 'Read Notes']"
      ]
     },
     "execution_count": 5,
     "metadata": {},
     "output_type": "execute_result"
    }
   ],
   "source": [
    "m_l"
   ]
  },
  {
   "cell_type": "code",
   "execution_count": 6,
   "id": "c08f9b0a",
   "metadata": {},
   "outputs": [
    {
     "data": {
      "text/plain": [
       "'Read Notes'"
      ]
     },
     "execution_count": 6,
     "metadata": {},
     "output_type": "execute_result"
    }
   ],
   "source": [
    "m_l[1]"
   ]
  },
  {
   "cell_type": "code",
   "execution_count": 15,
   "id": "f9f465b6",
   "metadata": {},
   "outputs": [],
   "source": []
  },
  {
   "cell_type": "code",
   "execution_count": 17,
   "id": "256f1939",
   "metadata": {},
   "outputs": [
    {
     "data": {
      "text/plain": [
       "['Go to church', 'shower', 'shower', 'Walk Dog', 'Walk Dog', 'Read Notes']"
      ]
     },
     "execution_count": 17,
     "metadata": {},
     "output_type": "execute_result"
    }
   ],
   "source": [
    "m_l"
   ]
  },
  {
   "cell_type": "code",
   "execution_count": 18,
   "id": "440b8110",
   "metadata": {},
   "outputs": [],
   "source": [
    "i = m_l.index('Read Notes')"
   ]
  },
  {
   "cell_type": "code",
   "execution_count": 20,
   "id": "6e8ff156",
   "metadata": {},
   "outputs": [],
   "source": [
    "m_l.insert(i, 'Run')"
   ]
  },
  {
   "cell_type": "code",
   "execution_count": 21,
   "id": "66100f7d",
   "metadata": {},
   "outputs": [
    {
     "data": {
      "text/plain": [
       "['Go to church',\n",
       " 'shower',\n",
       " 'shower',\n",
       " 'Walk Dog',\n",
       " 'Walk Dog',\n",
       " 'Run',\n",
       " 'Read Notes']"
      ]
     },
     "execution_count": 21,
     "metadata": {},
     "output_type": "execute_result"
    }
   ],
   "source": [
    "m_l"
   ]
  },
  {
   "cell_type": "code",
   "execution_count": 22,
   "id": "a92d3344",
   "metadata": {},
   "outputs": [
    {
     "data": {
      "text/plain": [
       "2"
      ]
     },
     "execution_count": 22,
     "metadata": {},
     "output_type": "execute_result"
    }
   ],
   "source": [
    "m_l.count('Walk Dog')"
   ]
  },
  {
   "cell_type": "code",
   "execution_count": 23,
   "id": "c1d312a3",
   "metadata": {},
   "outputs": [
    {
     "data": {
      "text/plain": [
       "2"
      ]
     },
     "execution_count": 23,
     "metadata": {},
     "output_type": "execute_result"
    }
   ],
   "source": [
    "m_l.count('shower')"
   ]
  },
  {
   "cell_type": "code",
   "execution_count": 25,
   "id": "cd49d9de",
   "metadata": {},
   "outputs": [],
   "source": [
    "m_l[len(m_l):] = ['journal', 'Do dishes', 'code']"
   ]
  },
  {
   "cell_type": "code",
   "execution_count": 26,
   "id": "eba8c471",
   "metadata": {},
   "outputs": [
    {
     "data": {
      "text/plain": [
       "['Go to church',\n",
       " 'shower',\n",
       " 'shower',\n",
       " 'Walk Dog',\n",
       " 'Walk Dog',\n",
       " 'Run',\n",
       " 'Read Notes',\n",
       " 'journal',\n",
       " 'Do dishes',\n",
       " 'code']"
      ]
     },
     "execution_count": 26,
     "metadata": {},
     "output_type": "execute_result"
    }
   ],
   "source": [
    "m_l"
   ]
  },
  {
   "cell_type": "code",
   "execution_count": 28,
   "id": "933f6225",
   "metadata": {},
   "outputs": [],
   "source": [
    "del m_l[-1]"
   ]
  },
  {
   "cell_type": "code",
   "execution_count": 29,
   "id": "e36ad824",
   "metadata": {},
   "outputs": [
    {
     "data": {
      "text/plain": [
       "['Go to church',\n",
       " 'shower',\n",
       " 'shower',\n",
       " 'Walk Dog',\n",
       " 'Walk Dog',\n",
       " 'Run',\n",
       " 'Read Notes',\n",
       " 'journal',\n",
       " 'Do dishes']"
      ]
     },
     "execution_count": 29,
     "metadata": {},
     "output_type": "execute_result"
    }
   ],
   "source": [
    "m_l"
   ]
  },
  {
   "cell_type": "code",
   "execution_count": 33,
   "id": "448beee3",
   "metadata": {},
   "outputs": [
    {
     "data": {
      "text/plain": [
       "['Read Notes', 'journal', 'Do dishes']"
      ]
     },
     "execution_count": 33,
     "metadata": {},
     "output_type": "execute_result"
    }
   ],
   "source": [
    "m_l[(len(m_l) - 3) : len(m_l)]"
   ]
  },
  {
   "cell_type": "code",
   "execution_count": 38,
   "id": "9940b122",
   "metadata": {},
   "outputs": [
    {
     "name": "stdout",
     "output_type": "stream",
     "text": [
      "Go to church -Done!\n"
     ]
    }
   ],
   "source": [
    "from collections import deque\n",
    "queue = deque(m_l)\n",
    "queue.append('Wash the car')\n",
    "print(queue.popleft(), '-Done!')\n",
    "my_list_upd = list(queue)"
   ]
  },
  {
   "cell_type": "code",
   "execution_count": null,
   "id": "f9da1891",
   "metadata": {},
   "outputs": [],
   "source": []
  }
 ],
 "metadata": {
  "kernelspec": {
   "display_name": "Python 3.8.8 64-bit ('base': conda)",
   "language": "python",
   "name": "python388jvsc74a57bd0b33e3591955878ea7383b1537a9a3fa2265d1ada1b1e73c653362ec396b1aaba"
  },
  "language_info": {
   "codemirror_mode": {
    "name": "ipython",
    "version": 3
   },
   "file_extension": ".py",
   "mimetype": "text/x-python",
   "name": "python",
   "nbconvert_exporter": "python",
   "pygments_lexer": "ipython3",
   "version": "3.8.8"
  }
 },
 "nbformat": 4,
 "nbformat_minor": 5
}
