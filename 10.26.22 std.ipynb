{
 "cells": [
  {
   "cell_type": "code",
   "execution_count": 2,
   "id": "6ecf44b2",
   "metadata": {},
   "outputs": [],
   "source": [
    "m_l = []"
   ]
  },
  {
   "cell_type": "code",
   "execution_count": 3,
   "id": "5fd806c6",
   "metadata": {},
   "outputs": [],
   "source": [
    "m_l.append(\"Go to church\")"
   ]
  },
  {
   "cell_type": "code",
   "execution_count": 4,
   "id": "a8d73e3e",
   "metadata": {},
   "outputs": [],
   "source": [
    "m_l.append(\"Read Notes\")"
   ]
  },
  {
   "cell_type": "code",
   "execution_count": 5,
   "id": "ffd2ed01",
   "metadata": {},
   "outputs": [
    {
     "data": {
      "text/plain": [
       "['Go to church', 'Read Notes']"
      ]
     },
     "execution_count": 5,
     "metadata": {},
     "output_type": "execute_result"
    }
   ],
   "source": [
    "m_l"
   ]
  },
  {
   "cell_type": "code",
   "execution_count": 6,
   "id": "b57fc294",
   "metadata": {},
   "outputs": [
    {
     "data": {
      "text/plain": [
       "'Read Notes'"
      ]
     },
     "execution_count": 6,
     "metadata": {},
     "output_type": "execute_result"
    }
   ],
   "source": [
    "m_l[1]"
   ]
  },
  {
   "cell_type": "code",
   "execution_count": 15,
   "id": "4772786c",
   "metadata": {},
   "outputs": [],
   "source": []
  },
  {
   "cell_type": "code",
   "execution_count": 17,
   "id": "fd5b7469",
   "metadata": {},
   "outputs": [
    {
     "data": {
      "text/plain": [
       "['Go to church', 'shower', 'shower', 'Walk Dog', 'Walk Dog', 'Read Notes']"
      ]
     },
     "execution_count": 17,
     "metadata": {},
     "output_type": "execute_result"
    }
   ],
   "source": [
    "m_l"
   ]
  },
  {
   "cell_type": "code",
   "execution_count": 18,
   "id": "9bbdb38d",
   "metadata": {},
   "outputs": [],
   "source": [
    "i = m_l.index('Read Notes')"
   ]
  },
  {
   "cell_type": "code",
   "execution_count": 20,
   "id": "274eb3e6",
   "metadata": {},
   "outputs": [],
   "source": [
    "m_l.insert(i, 'Run')"
   ]
  },
  {
   "cell_type": "code",
   "execution_count": 21,
   "id": "04bdcdf4",
   "metadata": {},
   "outputs": [
    {
     "data": {
      "text/plain": [
       "['Go to church',\n",
       " 'shower',\n",
       " 'shower',\n",
       " 'Walk Dog',\n",
       " 'Walk Dog',\n",
       " 'Run',\n",
       " 'Read Notes']"
      ]
     },
     "execution_count": 21,
     "metadata": {},
     "output_type": "execute_result"
    }
   ],
   "source": [
    "m_l"
   ]
  },
  {
   "cell_type": "code",
   "execution_count": 22,
   "id": "d4b08cdb",
   "metadata": {},
   "outputs": [
    {
     "data": {
      "text/plain": [
       "2"
      ]
     },
     "execution_count": 22,
     "metadata": {},
     "output_type": "execute_result"
    }
   ],
   "source": [
    "m_l.count('Walk Dog')"
   ]
  },
  {
   "cell_type": "code",
   "execution_count": 23,
   "id": "f0f3e610",
   "metadata": {},
   "outputs": [
    {
     "data": {
      "text/plain": [
       "2"
      ]
     },
     "execution_count": 23,
     "metadata": {},
     "output_type": "execute_result"
    }
   ],
   "source": [
    "m_l.count('shower')"
   ]
  },
  {
   "cell_type": "code",
   "execution_count": 25,
   "id": "eed898fa",
   "metadata": {},
   "outputs": [],
   "source": [
    "m_l[len(m_l):] = ['journal', 'Do dishes', 'code']"
   ]
  },
  {
   "cell_type": "code",
   "execution_count": 26,
   "id": "af24671b",
   "metadata": {},
   "outputs": [
    {
     "data": {
      "text/plain": [
       "['Go to church',\n",
       " 'shower',\n",
       " 'shower',\n",
       " 'Walk Dog',\n",
       " 'Walk Dog',\n",
       " 'Run',\n",
       " 'Read Notes',\n",
       " 'journal',\n",
       " 'Do dishes',\n",
       " 'code']"
      ]
     },
     "execution_count": 26,
     "metadata": {},
     "output_type": "execute_result"
    }
   ],
   "source": [
    "m_l"
   ]
  },
  {
   "cell_type": "code",
   "execution_count": 28,
   "id": "0e049751",
   "metadata": {},
   "outputs": [],
   "source": [
    "del m_l[-1]"
   ]
  },
  {
   "cell_type": "code",
   "execution_count": 29,
   "id": "cd8b11c1",
   "metadata": {},
   "outputs": [
    {
     "data": {
      "text/plain": [
       "['Go to church',\n",
       " 'shower',\n",
       " 'shower',\n",
       " 'Walk Dog',\n",
       " 'Walk Dog',\n",
       " 'Run',\n",
       " 'Read Notes',\n",
       " 'journal',\n",
       " 'Do dishes']"
      ]
     },
     "execution_count": 29,
     "metadata": {},
     "output_type": "execute_result"
    }
   ],
   "source": [
    "m_l"
   ]
  },
  {
   "cell_type": "code",
   "execution_count": 33,
   "id": "2ce42982",
   "metadata": {},
   "outputs": [
    {
     "data": {
      "text/plain": [
       "['Read Notes', 'journal', 'Do dishes']"
      ]
     },
     "execution_count": 33,
     "metadata": {},
     "output_type": "execute_result"
    }
   ],
   "source": [
    "m_l[(len(m_l) - 3) : len(m_l)]"
   ]
  },
  {
   "cell_type": "code",
   "execution_count": 45,
   "id": "19d33bff",
   "metadata": {},
   "outputs": [
    {
     "name": "stdout",
     "output_type": "stream",
     "text": [
      "Go to church -Done!\n",
      "shower -Done!\n",
      "shower -Done!\n",
      "Walk Dog -Done!\n",
      "Walk Dog -Done!\n",
      "Run -Done!\n",
      "Read Notes -Done!\n",
      "journal -Done!\n",
      "Do dishes -Done!\n",
      "Wash the car -Done!\n",
      "\n",
      "Done doing everything\n"
     ]
    }
   ],
   "source": [
    "from collections import deque\n",
    "queue = deque(m_l)\n",
    "queue.append('Wash the car')\n",
    "while queue:\n",
    "    print(queue.popleft(), '-Done!')\n",
    "print(\"\\nDone doing everything\")\n",
    "my_list_upd = list(queue)"
   ]
  },
  {
   "cell_type": "code",
   "execution_count": 41,
   "id": "e29f4579",
   "metadata": {},
   "outputs": [
    {
     "name": "stdout",
     "output_type": "stream",
     "text": [
      "Cook dinner  - Done!\n",
      "Go to the pharmacy  - Done!\n",
      "Walk the dog  - Done!\n",
      "Tidy up  - Done!\n",
      "Pay bills  - Done!\n",
      "\n",
      "The stack is empty\n"
     ]
    }
   ],
   "source": [
    "my_list = ['Pay bills', 'Tidy up', 'Walk the dog', 'Go to the pharmacy', 'Cook dinner'] \n",
    "stack = []\n",
    "for task in my_list:\n",
    "    stack.append(task)\n",
    "while stack:\n",
    "    print(stack.pop(), ' - Done!')\n",
    "print('\\nThe stack is empty')\n"
   ]
  },
  {
   "cell_type": "code",
   "execution_count": null,
   "id": "2dbdce00",
   "metadata": {},
   "outputs": [],
   "source": []
  }
 ],
 "metadata": {
  "kernelspec": {
   "display_name": "Python 3.8.8 64-bit ('base': conda)",
   "language": "python",
   "name": "python388jvsc74a57bd0b33e3591955878ea7383b1537a9a3fa2265d1ada1b1e73c653362ec396b1aaba"
  },
  "language_info": {
   "codemirror_mode": {
    "name": "ipython",
    "version": 3
   },
   "file_extension": ".py",
   "mimetype": "text/x-python",
   "name": "python",
   "nbconvert_exporter": "python",
   "pygments_lexer": "ipython3",
   "version": "3.8.8"
  }
 },
 "nbformat": 4,
 "nbformat_minor": 5
}
